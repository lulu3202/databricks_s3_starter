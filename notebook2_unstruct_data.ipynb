{
 "cells": [
  {
   "cell_type": "markdown",
   "metadata": {
    "application/vnd.databricks.v1+cell": {
     "cellMetadata": {},
     "inputWidgets": {},
     "nuid": "50683339-f6d9-4578-a4c3-d526f0f71c38",
     "showTitle": false,
     "tableResultSettingsMap": {},
     "title": ""
    }
   },
   "source": [
    "# Unstructured Data Processing for Knowledge Base\n",
    "\n",
    "This notebook processes unstructured text documents (FAQs and guides) and converts them into structured Delta tables for AI/RAG applications.\n",
    "\n",
    "## Overview\n",
    "- Load multiple text files from S3\n",
    "- Structure unstructured content with source attribution\n",
    "- Save as external Delta tables\n",
    "- Prepare knowledge base for vector search"
   ]
  },
  {
   "cell_type": "markdown",
   "metadata": {
    "application/vnd.databricks.v1+cell": {
     "cellMetadata": {},
     "inputWidgets": {},
     "nuid": "55eaf2b1-0b54-4e65-8c37-300ba4f0d467",
     "showTitle": false,
     "tableResultSettingsMap": {},
     "title": ""
    }
   },
   "source": [
    "## 1. Setup and Installation\n",
    "\n",
    "Install required packages for vector search functionality."
   ]
  },
  {
   "cell_type": "code",
   "execution_count": 0,
   "metadata": {
    "application/vnd.databricks.v1+cell": {
     "cellMetadata": {
      "byteLimit": 2048000,
      "rowLimit": 10000
     },
     "inputWidgets": {},
     "nuid": "6ba8c24f-5349-49b4-a239-fa5785ee2821",
     "showTitle": false,
     "tableResultSettingsMap": {},
     "title": ""
    }
   },
   "outputs": [
    {
     "output_type": "stream",
     "name": "stdout",
     "output_type": "stream",
     "text": [
      "Collecting databricks-vectorsearch\n  Downloading databricks_vectorsearch-0.57-py3-none-any.whl.metadata (2.8 kB)\nRequirement already satisfied: mlflow-skinny<4,>=2.11.3 in /databricks/python3/lib/python3.12/site-packages (from databricks-vectorsearch) (2.19.0)\nRequirement already satisfied: protobuf<6,>=3.12.0 in /databricks/python3/lib/python3.12/site-packages (from databricks-vectorsearch) (4.24.1)\nRequirement already satisfied: requests>=2 in /databricks/python3/lib/python3.12/site-packages (from databricks-vectorsearch) (2.32.2)\nCollecting deprecation>=2 (from databricks-vectorsearch)\n  Downloading deprecation-2.1.0-py2.py3-none-any.whl.metadata (4.6 kB)\nRequirement already satisfied: packaging in /databricks/python3/lib/python3.12/site-packages (from deprecation>=2->databricks-vectorsearch) (24.1)\nRequirement already satisfied: cachetools<6,>=5.0.0 in /databricks/python3/lib/python3.12/site-packages (from mlflow-skinny<4,>=2.11.3->databricks-vectorsearch) (5.3.3)\nRequirement already satisfied: click<9,>=7.0 in /databricks/python3/lib/python3.12/site-packages (from mlflow-skinny<4,>=2.11.3->databricks-vectorsearch) (8.1.7)\nRequirement already satisfied: cloudpickle<4 in /databricks/python3/lib/python3.12/site-packages (from mlflow-skinny<4,>=2.11.3->databricks-vectorsearch) (2.2.1)\nRequirement already satisfied: databricks-sdk<1,>=0.20.0 in /databricks/python3/lib/python3.12/site-packages (from mlflow-skinny<4,>=2.11.3->databricks-vectorsearch) (0.30.0)\nRequirement already satisfied: gitpython<4,>=3.1.9 in /databricks/python3/lib/python3.12/site-packages (from mlflow-skinny<4,>=2.11.3->databricks-vectorsearch) (3.1.37)\nRequirement already satisfied: importlib_metadata!=4.7.0,<9,>=3.7.0 in /databricks/python3/lib/python3.12/site-packages (from mlflow-skinny<4,>=2.11.3->databricks-vectorsearch) (6.0.0)\nRequirement already satisfied: opentelemetry-api<3,>=1.9.0 in /databricks/python3/lib/python3.12/site-packages (from mlflow-skinny<4,>=2.11.3->databricks-vectorsearch) (1.27.0)\nRequirement already satisfied: opentelemetry-sdk<3,>=1.9.0 in /databricks/python3/lib/python3.12/site-packages (from mlflow-skinny<4,>=2.11.3->databricks-vectorsearch) (1.27.0)\nRequirement already satisfied: pyyaml<7,>=5.1 in /databricks/python3/lib/python3.12/site-packages (from mlflow-skinny<4,>=2.11.3->databricks-vectorsearch) (6.0.1)\nRequirement already satisfied: sqlparse<1,>=0.4.0 in /databricks/python3/lib/python3.12/site-packages (from mlflow-skinny<4,>=2.11.3->databricks-vectorsearch) (0.5.1)\nRequirement already satisfied: charset-normalizer<4,>=2 in /databricks/python3/lib/python3.12/site-packages (from requests>=2->databricks-vectorsearch) (2.0.4)\nRequirement already satisfied: idna<4,>=2.5 in /databricks/python3/lib/python3.12/site-packages (from requests>=2->databricks-vectorsearch) (3.7)\nRequirement already satisfied: urllib3<3,>=1.21.1 in /databricks/python3/lib/python3.12/site-packages (from requests>=2->databricks-vectorsearch) (1.26.16)\nRequirement already satisfied: certifi>=2017.4.17 in /databricks/python3/lib/python3.12/site-packages (from requests>=2->databricks-vectorsearch) (2024.6.2)\nRequirement already satisfied: google-auth~=2.0 in /databricks/python3/lib/python3.12/site-packages (from databricks-sdk<1,>=0.20.0->mlflow-skinny<4,>=2.11.3->databricks-vectorsearch) (2.35.0)\nRequirement already satisfied: gitdb<5,>=4.0.1 in /databricks/python3/lib/python3.12/site-packages (from gitpython<4,>=3.1.9->mlflow-skinny<4,>=2.11.3->databricks-vectorsearch) (4.0.11)\nRequirement already satisfied: zipp>=0.5 in /databricks/python3/lib/python3.12/site-packages (from importlib_metadata!=4.7.0,<9,>=3.7.0->mlflow-skinny<4,>=2.11.3->databricks-vectorsearch) (3.17.0)\nRequirement already satisfied: deprecated>=1.2.6 in /databricks/python3/lib/python3.12/site-packages (from opentelemetry-api<3,>=1.9.0->mlflow-skinny<4,>=2.11.3->databricks-vectorsearch) (1.2.14)\nRequirement already satisfied: opentelemetry-semantic-conventions==0.48b0 in /databricks/python3/lib/python3.12/site-packages (from opentelemetry-sdk<3,>=1.9.0->mlflow-skinny<4,>=2.11.3->databricks-vectorsearch) (0.48b0)\nRequirement already satisfied: typing-extensions>=3.7.4 in /databricks/python3/lib/python3.12/site-packages (from opentelemetry-sdk<3,>=1.9.0->mlflow-skinny<4,>=2.11.3->databricks-vectorsearch) (4.11.0)\nRequirement already satisfied: wrapt<2,>=1.10 in /databricks/python3/lib/python3.12/site-packages (from deprecated>=1.2.6->opentelemetry-api<3,>=1.9.0->mlflow-skinny<4,>=2.11.3->databricks-vectorsearch) (1.14.1)\nRequirement already satisfied: smmap<6,>=3.0.1 in /databricks/python3/lib/python3.12/site-packages (from gitdb<5,>=4.0.1->gitpython<4,>=3.1.9->mlflow-skinny<4,>=2.11.3->databricks-vectorsearch) (5.0.0)\nRequirement already satisfied: pyasn1-modules>=0.2.1 in /databricks/python3/lib/python3.12/site-packages (from google-auth~=2.0->databricks-sdk<1,>=0.20.0->mlflow-skinny<4,>=2.11.3->databricks-vectorsearch) (0.2.8)\nRequirement already satisfied: rsa<5,>=3.1.4 in /databricks/python3/lib/python3.12/site-packages (from google-auth~=2.0->databricks-sdk<1,>=0.20.0->mlflow-skinny<4,>=2.11.3->databricks-vectorsearch) (4.9)\nRequirement already satisfied: pyasn1<0.5.0,>=0.4.6 in /databricks/python3/lib/python3.12/site-packages (from pyasn1-modules>=0.2.1->google-auth~=2.0->databricks-sdk<1,>=0.20.0->mlflow-skinny<4,>=2.11.3->databricks-vectorsearch) (0.4.8)\nDownloading databricks_vectorsearch-0.57-py3-none-any.whl (16 kB)\nDownloading deprecation-2.1.0-py2.py3-none-any.whl (11 kB)\nInstalling collected packages: deprecation, databricks-vectorsearch\nSuccessfully installed databricks-vectorsearch-0.57 deprecation-2.1.0\n\u001B[43mNote: you may need to restart the kernel using %restart_python or dbutils.library.restartPython() to use updated packages.\u001B[0m\n"
     ]
    }
   ],
   "source": [
    "%pip install databricks-vectorsearch"
   ]
  },
  {
   "cell_type": "code",
   "execution_count": 0,
   "metadata": {
    "application/vnd.databricks.v1+cell": {
     "cellMetadata": {
      "byteLimit": 2048000,
      "rowLimit": 10000
     },
     "inputWidgets": {},
     "nuid": "27b81288-b818-4bdf-9ca8-57e3de3db342",
     "showTitle": false,
     "tableResultSettingsMap": {},
     "title": ""
    }
   },
   "outputs": [],
   "source": [
    "dbutils.library.restartPython()"
   ]
  },
  {
   "cell_type": "markdown",
   "metadata": {
    "application/vnd.databricks.v1+cell": {
     "cellMetadata": {},
     "inputWidgets": {},
     "nuid": "37921906-237e-4a4c-8ce6-ff7162529616",
     "showTitle": false,
     "tableResultSettingsMap": {},
     "title": ""
    }
   },
   "source": [
    "## 2. Process Unstructured Knowledge Base Files\n",
    "\n",
    "Load and structure multiple FAQ and guide documents from S3 storage."
   ]
  },
  {
   "cell_type": "code",
   "execution_count": 0,
   "metadata": {
    "application/vnd.databricks.v1+cell": {
     "cellMetadata": {
      "byteLimit": 2048000,
      "rowLimit": 10000
     },
     "inputWidgets": {},
     "nuid": "24126e16-b667-4c0f-9a08-b0a1c9becb61",
     "showTitle": false,
     "tableResultSettingsMap": {},
     "title": ""
    }
   },
   "outputs": [
    {
     "output_type": "stream",
     "name": "stdout",
     "output_type": "stream",
     "text": [
      "\uD83D\uDCC2 Processing: billing_faq from s3://awsdbjuly/billing_faq.txt\n"
     ]
    },
    {
     "output_type": "display_data",
     "data": {
      "text/html": [
       "<style scoped>\n",
       "  .table-result-container {\n",
       "    max-height: 300px;\n",
       "    overflow: auto;\n",
       "  }\n",
       "  table, th, td {\n",
       "    border: 1px solid black;\n",
       "    border-collapse: collapse;\n",
       "  }\n",
       "  th, td {\n",
       "    padding: 5px;\n",
       "  }\n",
       "  th {\n",
       "    text-align: left;\n",
       "  }\n",
       "</style><div class='table-result-container'><table class='table-result'><thead style='background-color: white'><tr><th>content</th><th>source</th></tr></thead><tbody><tr><td># Billing FAQ - TechCorp Customer Support</td><td>billing_faq</td></tr><tr><td></td><td>billing_faq</td></tr><tr><td>## Payment Methods</td><td>billing_faq</td></tr><tr><td>Q: What payment methods do you accept?</td><td>billing_faq</td></tr><tr><td>A: We accept all major credit cards (Visa, MasterCard, American Express), PayPal, and wire transfers for enterprise customers.</td><td>billing_faq</td></tr><tr><td></td><td>billing_faq</td></tr><tr><td>## Billing Cycles</td><td>billing_faq</td></tr><tr><td>Q: When will I be charged?</td><td>billing_faq</td></tr><tr><td>A: Billing occurs monthly on the anniversary of your subscription start date. Enterprise customers can request quarterly or annual billing.</td><td>billing_faq</td></tr><tr><td></td><td>billing_faq</td></tr><tr><td>## Refunds</td><td>billing_faq</td></tr><tr><td>Q: What is your refund policy?</td><td>billing_faq</td></tr><tr><td>A: We offer a 30-day money-back guarantee for new customers. Contact support within 30 days of your first payment for a full refund.</td><td>billing_faq</td></tr><tr><td></td><td>billing_faq</td></tr><tr><td>## Invoice Issues</td><td>billing_faq</td></tr><tr><td>Q: I didn't receive my invoice, what should I do?</td><td>billing_faq</td></tr><tr><td>A: Check your spam folder first. If you still can't find it, contact billing support at billing@techcorp.com or call 1-800-TECHCORP.</td><td>billing_faq</td></tr><tr><td></td><td>billing_faq</td></tr><tr><td>## Subscription Changes</td><td>billing_faq</td></tr><tr><td>Q: Can I upgrade or downgrade my plan?</td><td>billing_faq</td></tr><tr><td>A: Yes, you can change your plan at any time from your account dashboard. Changes take effect immediately, and you'll be prorated for the difference.</td><td>billing_faq</td></tr><tr><td></td><td>billing_faq</td></tr><tr><td>## Late Payments</td><td>billing_faq</td></tr><tr><td>Q: What happens if my payment fails?</td><td>billing_faq</td></tr><tr><td>A: We'll retry the payment 3 times over 7 days. After that, your account may be suspended. Update your payment method to restore service.</td><td>billing_faq</td></tr></tbody></table></div>"
      ]
     },
     "metadata": {
      "application/vnd.databricks.v1+output": {
       "addedWidgets": {},
       "aggData": [],
       "aggError": "",
       "aggOverflow": false,
       "aggSchema": [],
       "aggSeriesLimitReached": false,
       "aggType": "",
       "arguments": {},
       "columnCustomDisplayInfos": {},
       "data": [
        [
         "# Billing FAQ - TechCorp Customer Support",
         "billing_faq"
        ],
        [
         "",
         "billing_faq"
        ],
        [
         "## Payment Methods",
         "billing_faq"
        ],
        [
         "Q: What payment methods do you accept?",
         "billing_faq"
        ],
        [
         "A: We accept all major credit cards (Visa, MasterCard, American Express), PayPal, and wire transfers for enterprise customers.",
         "billing_faq"
        ],
        [
         "",
         "billing_faq"
        ],
        [
         "## Billing Cycles",
         "billing_faq"
        ],
        [
         "Q: When will I be charged?",
         "billing_faq"
        ],
        [
         "A: Billing occurs monthly on the anniversary of your subscription start date. Enterprise customers can request quarterly or annual billing.",
         "billing_faq"
        ],
        [
         "",
         "billing_faq"
        ],
        [
         "## Refunds",
         "billing_faq"
        ],
        [
         "Q: What is your refund policy?",
         "billing_faq"
        ],
        [
         "A: We offer a 30-day money-back guarantee for new customers. Contact support within 30 days of your first payment for a full refund.",
         "billing_faq"
        ],
        [
         "",
         "billing_faq"
        ],
        [
         "## Invoice Issues",
         "billing_faq"
        ],
        [
         "Q: I didn't receive my invoice, what should I do?",
         "billing_faq"
        ],
        [
         "A: Check your spam folder first. If you still can't find it, contact billing support at billing@techcorp.com or call 1-800-TECHCORP.",
         "billing_faq"
        ],
        [
         "",
         "billing_faq"
        ],
        [
         "## Subscription Changes",
         "billing_faq"
        ],
        [
         "Q: Can I upgrade or downgrade my plan?",
         "billing_faq"
        ],
        [
         "A: Yes, you can change your plan at any time from your account dashboard. Changes take effect immediately, and you'll be prorated for the difference.",
         "billing_faq"
        ],
        [
         "",
         "billing_faq"
        ],
        [
         "## Late Payments",
         "billing_faq"
        ],
        [
         "Q: What happens if my payment fails?",
         "billing_faq"
        ],
        [
         "A: We'll retry the payment 3 times over 7 days. After that, your account may be suspended. Update your payment method to restore service.",
         "billing_faq"
        ]
       ],
       "datasetInfos": [],
       "dbfsResultPath": null,
       "isJsonSchema": true,
       "metadata": {},
       "overflow": false,
       "plotOptions": {
        "customPlotOptions": {},
        "displayType": "table",
        "pivotAggregation": null,
        "pivotColumns": null,
        "xColumns": null,
        "yColumns": null
       },
       "removedWidgets": [],
       "schema": [
        {
         "metadata": "{}",
         "name": "content",
         "type": "\"string\""
        },
        {
         "metadata": "{}",
         "name": "source",
         "type": "\"string\""
        }
       ],
       "type": "table"
      }
     },
     "output_type": "display_data"
    },
    {
     "output_type": "stream",
     "name": "stdout",
     "output_type": "stream",
     "text": [
      "✅ Saved as external Delta table: bronze_billing_faq\n\uD83D\uDCC2 Processing: product_guide from s3://awsdbjuly/product_guide.txt\n"
     ]
    },
    {
     "output_type": "display_data",
     "data": {
      "text/html": [
       "<style scoped>\n",
       "  .table-result-container {\n",
       "    max-height: 300px;\n",
       "    overflow: auto;\n",
       "  }\n",
       "  table, th, td {\n",
       "    border: 1px solid black;\n",
       "    border-collapse: collapse;\n",
       "  }\n",
       "  th, td {\n",
       "    padding: 5px;\n",
       "  }\n",
       "  th {\n",
       "    text-align: left;\n",
       "  }\n",
       "</style><div class='table-result-container'><table class='table-result'><thead style='background-color: white'><tr><th>content</th><th>source</th></tr></thead><tbody><tr><td># Product User Guide - TechCorp Platform</td><td>product_guide</td></tr><tr><td></td><td>product_guide</td></tr><tr><td>## Getting Started</td><td>product_guide</td></tr><tr><td>Welcome to TechCorp Platform! This guide will help you get up and running with our data analytics and machine learning tools.</td><td>product_guide</td></tr><tr><td></td><td>product_guide</td></tr><tr><td>## DataLake Pro</td><td>product_guide</td></tr><tr><td>Our flagship data storage solution provides scalable, secure data lake capabilities:</td><td>product_guide</td></tr><tr><td>- Supports structured and unstructured data</td><td>product_guide</td></tr><tr><td>- Built-in data governance and lineage tracking</td><td>product_guide</td></tr><tr><td>- Automated backup and disaster recovery</td><td>product_guide</td></tr><tr><td>- Integration with major cloud providers</td><td>product_guide</td></tr><tr><td></td><td>product_guide</td></tr><tr><td>## Analytics Suite</td><td>product_guide</td></tr><tr><td>Powerful analytics tools for data exploration and visualization:</td><td>product_guide</td></tr><tr><td>- Drag-and-drop dashboard builder</td><td>product_guide</td></tr><tr><td>- Real-time data streaming</td><td>product_guide</td></tr><tr><td>- Advanced statistical functions</td><td>product_guide</td></tr><tr><td>- Custom reporting and alerts</td><td>product_guide</td></tr><tr><td></td><td>product_guide</td></tr><tr><td>## ML Platform</td><td>product_guide</td></tr><tr><td>End-to-end machine learning workflow management:</td><td>product_guide</td></tr><tr><td>- AutoML capabilities for beginners</td><td>product_guide</td></tr><tr><td>- Custom model development environment</td><td>product_guide</td></tr><tr><td>- Model deployment and monitoring</td><td>product_guide</td></tr><tr><td>- A/B testing framework</td><td>product_guide</td></tr><tr><td></td><td>product_guide</td></tr><tr><td>## Data Pipeline</td><td>product_guide</td></tr><tr><td>Automated data processing and transformation:</td><td>product_guide</td></tr><tr><td>- Visual pipeline builder</td><td>product_guide</td></tr><tr><td>- Scheduled and triggered execution</td><td>product_guide</td></tr><tr><td>- Error handling and retry logic</td><td>product_guide</td></tr><tr><td>- Data quality monitoring</td><td>product_guide</td></tr><tr><td></td><td>product_guide</td></tr><tr><td>## Storage Plus</td><td>product_guide</td></tr><tr><td>Enhanced storage features for enterprise customers:</td><td>product_guide</td></tr><tr><td>- Multi-region replication</td><td>product_guide</td></tr><tr><td>- Advanced encryption options</td><td>product_guide</td></tr><tr><td>- Compliance certifications (SOC2, HIPAA, GDPR)</td><td>product_guide</td></tr><tr><td>- Dedicated support team</td><td>product_guide</td></tr><tr><td></td><td>product_guide</td></tr><tr><td>## Best Practices</td><td>product_guide</td></tr><tr><td>1. Always test pipelines in development first</td><td>product_guide</td></tr><tr><td>2. Set up monitoring and alerts for critical processes</td><td>product_guide</td></tr><tr><td>3. Regularly backup your configurations</td><td>product_guide</td></tr><tr><td>4. Follow our security guidelines for data handling</td><td>product_guide</td></tr><tr><td>5. Use version control for custom scripts and models</td><td>product_guide</td></tr></tbody></table></div>"
      ]
     },
     "metadata": {
      "application/vnd.databricks.v1+output": {
       "addedWidgets": {},
       "aggData": [],
       "aggError": "",
       "aggOverflow": false,
       "aggSchema": [],
       "aggSeriesLimitReached": false,
       "aggType": "",
       "arguments": {},
       "columnCustomDisplayInfos": {},
       "data": [
        [
         "# Product User Guide - TechCorp Platform",
         "product_guide"
        ],
        [
         "",
         "product_guide"
        ],
        [
         "## Getting Started",
         "product_guide"
        ],
        [
         "Welcome to TechCorp Platform! This guide will help you get up and running with our data analytics and machine learning tools.",
         "product_guide"
        ],
        [
         "",
         "product_guide"
        ],
        [
         "## DataLake Pro",
         "product_guide"
        ],
        [
         "Our flagship data storage solution provides scalable, secure data lake capabilities:",
         "product_guide"
        ],
        [
         "- Supports structured and unstructured data",
         "product_guide"
        ],
        [
         "- Built-in data governance and lineage tracking",
         "product_guide"
        ],
        [
         "- Automated backup and disaster recovery",
         "product_guide"
        ],
        [
         "- Integration with major cloud providers",
         "product_guide"
        ],
        [
         "",
         "product_guide"
        ],
        [
         "## Analytics Suite",
         "product_guide"
        ],
        [
         "Powerful analytics tools for data exploration and visualization:",
         "product_guide"
        ],
        [
         "- Drag-and-drop dashboard builder",
         "product_guide"
        ],
        [
         "- Real-time data streaming",
         "product_guide"
        ],
        [
         "- Advanced statistical functions",
         "product_guide"
        ],
        [
         "- Custom reporting and alerts",
         "product_guide"
        ],
        [
         "",
         "product_guide"
        ],
        [
         "## ML Platform",
         "product_guide"
        ],
        [
         "End-to-end machine learning workflow management:",
         "product_guide"
        ],
        [
         "- AutoML capabilities for beginners",
         "product_guide"
        ],
        [
         "- Custom model development environment",
         "product_guide"
        ],
        [
         "- Model deployment and monitoring",
         "product_guide"
        ],
        [
         "- A/B testing framework",
         "product_guide"
        ],
        [
         "",
         "product_guide"
        ],
        [
         "## Data Pipeline",
         "product_guide"
        ],
        [
         "Automated data processing and transformation:",
         "product_guide"
        ],
        [
         "- Visual pipeline builder",
         "product_guide"
        ],
        [
         "- Scheduled and triggered execution",
         "product_guide"
        ],
        [
         "- Error handling and retry logic",
         "product_guide"
        ],
        [
         "- Data quality monitoring",
         "product_guide"
        ],
        [
         "",
         "product_guide"
        ],
        [
         "## Storage Plus",
         "product_guide"
        ],
        [
         "Enhanced storage features for enterprise customers:",
         "product_guide"
        ],
        [
         "- Multi-region replication",
         "product_guide"
        ],
        [
         "- Advanced encryption options",
         "product_guide"
        ],
        [
         "- Compliance certifications (SOC2, HIPAA, GDPR)",
         "product_guide"
        ],
        [
         "- Dedicated support team",
         "product_guide"
        ],
        [
         "",
         "product_guide"
        ],
        [
         "## Best Practices",
         "product_guide"
        ],
        [
         "1. Always test pipelines in development first",
         "product_guide"
        ],
        [
         "2. Set up monitoring and alerts for critical processes",
         "product_guide"
        ],
        [
         "3. Regularly backup your configurations",
         "product_guide"
        ],
        [
         "4. Follow our security guidelines for data handling",
         "product_guide"
        ],
        [
         "5. Use version control for custom scripts and models",
         "product_guide"
        ]
       ],
       "datasetInfos": [],
       "dbfsResultPath": null,
       "isJsonSchema": true,
       "metadata": {},
       "overflow": false,
       "plotOptions": {
        "customPlotOptions": {},
        "displayType": "table",
        "pivotAggregation": null,
        "pivotColumns": null,
        "xColumns": null,
        "yColumns": null
       },
       "removedWidgets": [],
       "schema": [
        {
         "metadata": "{}",
         "name": "content",
         "type": "\"string\""
        },
        {
         "metadata": "{}",
         "name": "source",
         "type": "\"string\""
        }
       ],
       "type": "table"
      }
     },
     "output_type": "display_data"
    },
    {
     "output_type": "stream",
     "name": "stdout",
     "output_type": "stream",
     "text": [
      "✅ Saved as external Delta table: bronze_product_guide\n\uD83D\uDCC2 Processing: technical_faq from s3://awsdbjuly/technical_faq.txt\n"
     ]
    },
    {
     "output_type": "display_data",
     "data": {
      "text/html": [
       "<style scoped>\n",
       "  .table-result-container {\n",
       "    max-height: 300px;\n",
       "    overflow: auto;\n",
       "  }\n",
       "  table, th, td {\n",
       "    border: 1px solid black;\n",
       "    border-collapse: collapse;\n",
       "  }\n",
       "  th, td {\n",
       "    padding: 5px;\n",
       "  }\n",
       "  th {\n",
       "    text-align: left;\n",
       "  }\n",
       "</style><div class='table-result-container'><table class='table-result'><thead style='background-color: white'><tr><th>content</th><th>source</th></tr></thead><tbody><tr><td># Technical Support FAQ - TechCorp</td><td>technical_faq</td></tr><tr><td></td><td>technical_faq</td></tr><tr><td>## Account Access</td><td>technical_faq</td></tr><tr><td>Q: I can't log into my account, what should I do?</td><td>technical_faq</td></tr><tr><td>A: First, try resetting your password using the \"Forgot Password\" link. If that doesn't work, check if your account has been locked due to multiple failed attempts.</td><td>technical_faq</td></tr><tr><td></td><td>technical_faq</td></tr><tr><td>## Data Pipeline Issues</td><td>technical_faq</td></tr><tr><td>Q: My data pipeline is failing, how do I troubleshoot?</td><td>technical_faq</td></tr><tr><td>A: Check the pipeline logs in your dashboard. Common issues include: insufficient permissions, data format mismatches, or network connectivity problems.</td><td>technical_faq</td></tr><tr><td></td><td>technical_faq</td></tr><tr><td>## Performance Issues</td><td>technical_faq</td></tr><tr><td>Q: Why is my query running slowly?</td><td>technical_faq</td></tr><tr><td>A: Slow queries can be caused by: large dataset size, missing indexes, inefficient query structure, or resource constraints. Try optimizing your query or upgrading your plan.</td><td>technical_faq</td></tr><tr><td></td><td>technical_faq</td></tr><tr><td>## API Errors</td><td>technical_faq</td></tr><tr><td>Q: I'm getting API timeout errors, what's wrong?</td><td>technical_faq</td></tr><tr><td>A: API timeouts typically occur with large data requests. Try breaking your request into smaller chunks or implementing pagination.</td><td>technical_faq</td></tr><tr><td></td><td>technical_faq</td></tr><tr><td>## Data Integration</td><td>technical_faq</td></tr><tr><td>Q: How do I connect to AWS S3?</td><td>technical_faq</td></tr><tr><td>A: Use your AWS access keys in our integration settings. Ensure your S3 bucket has the correct permissions set for our service principal.</td><td>technical_faq</td></tr><tr><td></td><td>technical_faq</td></tr><tr><td>## Security</td><td>technical_faq</td></tr><tr><td>Q: How do I set up two-factor authentication?</td><td>technical_faq</td></tr><tr><td>A: Go to Security Settings in your account dashboard, click \"Enable 2FA\", and follow the setup wizard using your preferred authenticator app.</td><td>technical_faq</td></tr></tbody></table></div>"
      ]
     },
     "metadata": {
      "application/vnd.databricks.v1+output": {
       "addedWidgets": {},
       "aggData": [],
       "aggError": "",
       "aggOverflow": false,
       "aggSchema": [],
       "aggSeriesLimitReached": false,
       "aggType": "",
       "arguments": {},
       "columnCustomDisplayInfos": {},
       "data": [
        [
         "# Technical Support FAQ - TechCorp",
         "technical_faq"
        ],
        [
         "",
         "technical_faq"
        ],
        [
         "## Account Access",
         "technical_faq"
        ],
        [
         "Q: I can't log into my account, what should I do?",
         "technical_faq"
        ],
        [
         "A: First, try resetting your password using the \"Forgot Password\" link. If that doesn't work, check if your account has been locked due to multiple failed attempts.",
         "technical_faq"
        ],
        [
         "",
         "technical_faq"
        ],
        [
         "## Data Pipeline Issues",
         "technical_faq"
        ],
        [
         "Q: My data pipeline is failing, how do I troubleshoot?",
         "technical_faq"
        ],
        [
         "A: Check the pipeline logs in your dashboard. Common issues include: insufficient permissions, data format mismatches, or network connectivity problems.",
         "technical_faq"
        ],
        [
         "",
         "technical_faq"
        ],
        [
         "## Performance Issues",
         "technical_faq"
        ],
        [
         "Q: Why is my query running slowly?",
         "technical_faq"
        ],
        [
         "A: Slow queries can be caused by: large dataset size, missing indexes, inefficient query structure, or resource constraints. Try optimizing your query or upgrading your plan.",
         "technical_faq"
        ],
        [
         "",
         "technical_faq"
        ],
        [
         "## API Errors",
         "technical_faq"
        ],
        [
         "Q: I'm getting API timeout errors, what's wrong?",
         "technical_faq"
        ],
        [
         "A: API timeouts typically occur with large data requests. Try breaking your request into smaller chunks or implementing pagination.",
         "technical_faq"
        ],
        [
         "",
         "technical_faq"
        ],
        [
         "## Data Integration",
         "technical_faq"
        ],
        [
         "Q: How do I connect to AWS S3?",
         "technical_faq"
        ],
        [
         "A: Use your AWS access keys in our integration settings. Ensure your S3 bucket has the correct permissions set for our service principal.",
         "technical_faq"
        ],
        [
         "",
         "technical_faq"
        ],
        [
         "## Security",
         "technical_faq"
        ],
        [
         "Q: How do I set up two-factor authentication?",
         "technical_faq"
        ],
        [
         "A: Go to Security Settings in your account dashboard, click \"Enable 2FA\", and follow the setup wizard using your preferred authenticator app.",
         "technical_faq"
        ]
       ],
       "datasetInfos": [],
       "dbfsResultPath": null,
       "isJsonSchema": true,
       "metadata": {},
       "overflow": false,
       "plotOptions": {
        "customPlotOptions": {},
        "displayType": "table",
        "pivotAggregation": null,
        "pivotColumns": null,
        "xColumns": null,
        "yColumns": null
       },
       "removedWidgets": [],
       "schema": [
        {
         "metadata": "{}",
         "name": "content",
         "type": "\"string\""
        },
        {
         "metadata": "{}",
         "name": "source",
         "type": "\"string\""
        }
       ],
       "type": "table"
      }
     },
     "output_type": "display_data"
    },
    {
     "output_type": "stream",
     "name": "stdout",
     "output_type": "stream",
     "text": [
      "✅ Saved as external Delta table: bronze_technical_faq\n"
     ]
    }
   ],
   "source": [
    "# Databricks Notebook: 02_Load_Unstructured_to_Delta (Fixed for External S3)\n",
    "\n",
    "# Step 1: Set catalog and schema\n",
    "spark.sql(\"USE CATALOG workspace\")\n",
    "spark.sql(\"USE SCHEMA smart_support\")\n",
    "\n",
    "# Step 2: Define source paths\n",
    "s3_base_path = \"s3://awsdbjuly\"\n",
    "files = {\n",
    "    \"billing_faq\": f\"{s3_base_path}/billing_faq.txt\",\n",
    "    \"product_guide\": f\"{s3_base_path}/product_guide.txt\",\n",
    "    \"technical_faq\": f\"{s3_base_path}/technical_faq.txt\"\n",
    "}\n",
    "\n",
    "# Step 3: Read files and save as external Delta tables\n",
    "from pyspark.sql.functions import lit\n",
    "\n",
    "for name, path in files.items():\n",
    "    print(f\"\uD83D\uDCC2 Processing: {name} from {path}\")\n",
    "\n",
    "    # Read text file into DataFrame\n",
    "    df = spark.read.text(path).withColumnRenamed(\"value\", \"content\")\n",
    "    df = df.withColumn(\"source\", lit(name))\n",
    "    display(df)\n",
    "\n",
    "    # Define S3 target Delta path\n",
    "    delta_path = f\"{s3_base_path}/bronze/{name}\"\n",
    "\n",
    "    # Save as Delta to S3\n",
    "    df.write.format(\"delta\").mode(\"overwrite\").save(delta_path)\n",
    "\n",
    "    # Register external Delta table\n",
    "    spark.sql(f\"\"\"\n",
    "        CREATE TABLE IF NOT EXISTS bronze_{name}\n",
    "        USING DELTA\n",
    "        LOCATION '{delta_path}'\n",
    "    \"\"\")\n",
    "\n",
    "    print(f\"✅ Saved as external Delta table: bronze_{name}\")\n"
   ]
  }
 ],
 "metadata": {
  "application/vnd.databricks.v1+notebook": {
   "computePreferences": null,
   "dashboards": [],
   "environmentMetadata": {
    "base_environment": "",
    "environment_version": "2"
   },
   "inputWidgetPreferences": null,
   "language": "python",
   "notebookMetadata": {
    "pythonIndentUnit": 4
   },
   "notebookName": "notebook2_unstruct_data",
   "widgets": {}
  },
  "language_info": {
   "name": "python"
  }
 },
 "nbformat": 4,
 "nbformat_minor": 0
}